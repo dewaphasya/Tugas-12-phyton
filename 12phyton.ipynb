{
  "nbformat": 4,
  "nbformat_minor": 0,
  "metadata": {
    "colab": {
      "name": "Untitled1.ipynb",
      "provenance": [],
      "include_colab_link": true
    },
    "kernelspec": {
      "name": "python3",
      "display_name": "Python 3"
    }
  },
  "cells": [
    {
      "cell_type": "markdown",
      "metadata": {
        "id": "view-in-github",
        "colab_type": "text"
      },
      "source": [
        "<a href=\"https://colab.research.google.com/github/dewaphasya/Tugas-12-phyton/blob/main/12phyton.ipynb\" target=\"_parent\"><img src=\"https://colab.research.google.com/assets/colab-badge.svg\" alt=\"Open In Colab\"/></a>"
      ]
    },
    {
      "cell_type": "code",
      "metadata": {
        "id": "cArqS-NGmIQG"
      },
      "source": [
        "import numpy as np"
      ],
      "execution_count": null,
      "outputs": []
    },
    {
      "cell_type": "code",
      "metadata": {
        "id": "JSzo6CFCLoBl",
        "colab": {
          "base_uri": "https://localhost:8080/"
        },
        "outputId": "8905f6f1-46bb-47ad-d7bf-62beea60f524"
      },
      "source": [
        "d = int(input(\"Masukkan jarak dalam kilometer: \"))\r\n",
        "fc = int(input(\"Masukkan frekuensi 400MHz-2000MHz: \"))\r\n",
        "area = input(\"masukkan tipe area: \")\r\n",
        "ht = int(input(\"Masukkan tinggi antena pemancar 30-200 meter: \"))\r\n",
        "hr = int(input(\"Masukkan tinggi antena penerima 1-30 meter: \"))"
      ],
      "execution_count": null,
      "outputs": [
        {
          "output_type": "stream",
          "text": [
            "Masukkan jarak dalam kilometer: 120\n",
            "Masukkan frekuensi 400MHz-2000MHz: 450\n",
            "masukkan tipe area: suburban\n",
            "Masukkan tinggi antena pemancar 30-200 meter: 40\n",
            "Masukkan tinggi antena penerima 1-30 meter: 12\n"
          ],
          "name": "stdout"
        }
      ]
    },
    {
      "cell_type": "code",
      "metadata": {
        "id": "2dROxd-4IC-k"
      },
      "source": [
        "NtL = lambda x: 10*np.log10(x)"
      ],
      "execution_count": null,
      "outputs": []
    },
    {
      "cell_type": "code",
      "metadata": {
        "id": "_ucTblHWIbv0"
      },
      "source": [
        "LtN = lambda x: 10**(x/10)"
      ],
      "execution_count": null,
      "outputs": []
    },
    {
      "cell_type": "code",
      "metadata": {
        "id": "pMDXT3OVFAcj"
      },
      "source": [
        "def csatu (Y):\r\n",
        "  if Y in range (400,1500):\r\n",
        "    return 69.55\r\n",
        "    \r\n",
        "  elif Y in range (1500,2000):\r\n",
        "    return 46.3"
      ],
      "execution_count": null,
      "outputs": []
    },
    {
      "cell_type": "code",
      "metadata": {
        "id": "rpSWdOyXGMR3"
      },
      "source": [
        "def cdua (Y):\r\n",
        "  if Y in range (400,1500):\r\n",
        "    return 26.16\r\n",
        "    \r\n",
        "  elif Y in range (1500,2000):\r\n",
        "    return 33.9"
      ],
      "execution_count": null,
      "outputs": []
    },
    {
      "cell_type": "code",
      "metadata": {
        "id": "f78mg5lCJ2_V"
      },
      "source": [
        "def cm (area,fc):\r\n",
        "  if area == \"urban\":\r\n",
        "    return 0\r\n",
        "  if area == \"suburban\":\r\n",
        "    return -2*(np.log10(fc/28)**2 - 5.4)\r\n",
        "  if area == \"open\":\r\n",
        "    return -4.78*(np.log10(fc))**2 + 18.33*np.log10(fc)- 40.94"
      ],
      "execution_count": null,
      "outputs": []
    },
    {
      "cell_type": "code",
      "metadata": {
        "id": "brP30AHxIN0x"
      },
      "source": [
        "def ahr(Y):\r\n",
        "  return (1.1*np.log10(Y)-0.7)*hr - (1.56*np.log10(Y)-0.8)"
      ],
      "execution_count": null,
      "outputs": []
    },
    {
      "cell_type": "code",
      "metadata": {
        "id": "MUxkX3EWZGwi"
      },
      "source": [
        "c1 = csatu(fc)\r\n",
        "c2 = cdua(fc)\r\n",
        "cm = cm(area,fc)\r\n",
        "ahr = ahr(fc)"
      ],
      "execution_count": null,
      "outputs": []
    },
    {
      "cell_type": "code",
      "metadata": {
        "colab": {
          "base_uri": "https://localhost:8080/"
        },
        "id": "IU-tvEb1ZV1m",
        "outputId": "02aad5fc-ef2f-4f90-c44d-329ffc4dcdba"
      },
      "source": [
        "print(c1)\r\n",
        "print(c2)\r\n",
        "print(cm)\r\n",
        "print(ahr)"
      ],
      "execution_count": null,
      "outputs": [
        {
          "output_type": "stream",
          "text": [
            "69.55\n",
            "26.16\n",
            "7.890865170805937\n",
            "23.283393660345\n"
          ],
          "name": "stdout"
        }
      ]
    },
    {
      "cell_type": "code",
      "metadata": {
        "id": "_RWlosFdLhlO",
        "colab": {
          "base_uri": "https://localhost:8080/"
        },
        "outputId": "a6b64ca7-6374-4faf-fc41-c8da5e0b8112"
      },
      "source": [
        "\n",
        "pldb = c1 + c2*np.log10(fc) - 13.83*np.log10(ht) - ahr + (44.9-6.55*np.log10(ht))*np.log10(d) + cm\n",
        "print(\"Pathloss adalah: \", pldb , \" db\")\n",
        " "
      ],
      "execution_count": null,
      "outputs": [
        {
          "output_type": "stream",
          "text": [
            "Pathloss adalah:  172.94638540526586  db\n"
          ],
          "name": "stdout"
        }
      ]
    }
  ]
}